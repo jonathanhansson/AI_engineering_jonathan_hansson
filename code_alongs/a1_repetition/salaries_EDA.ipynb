{
 "cells": [
  {
   "cell_type": "markdown",
   "id": "93b18f2e",
   "metadata": {},
   "source": [
    "# SALARIES EDA"
   ]
  },
  {
   "cell_type": "code",
   "execution_count": 46,
   "id": "f720df5a",
   "metadata": {},
   "outputs": [],
   "source": [
    "import pandas as pd\n",
    "import duckdb as db\n",
    "import matplotlib.pyplot as plt"
   ]
  },
  {
   "cell_type": "code",
   "execution_count": 51,
   "id": "5b41348b",
   "metadata": {},
   "outputs": [
    {
     "data": {
      "text/html": [
       "<div>\n",
       "<style scoped>\n",
       "    .dataframe tbody tr th:only-of-type {\n",
       "        vertical-align: middle;\n",
       "    }\n",
       "\n",
       "    .dataframe tbody tr th {\n",
       "        vertical-align: top;\n",
       "    }\n",
       "\n",
       "    .dataframe thead th {\n",
       "        text-align: right;\n",
       "    }\n",
       "</style>\n",
       "<table border=\"1\" class=\"dataframe\">\n",
       "  <thead>\n",
       "    <tr style=\"text-align: right;\">\n",
       "      <th></th>\n",
       "      <th>work_year</th>\n",
       "      <th>experience_level</th>\n",
       "      <th>employment_type</th>\n",
       "      <th>job_title</th>\n",
       "      <th>salary</th>\n",
       "      <th>salary_currency</th>\n",
       "      <th>salary_in_usd</th>\n",
       "      <th>employee_residence</th>\n",
       "      <th>remote_ratio</th>\n",
       "      <th>company_location</th>\n",
       "      <th>company_size</th>\n",
       "    </tr>\n",
       "  </thead>\n",
       "  <tbody>\n",
       "    <tr>\n",
       "      <th>0</th>\n",
       "      <td>2025</td>\n",
       "      <td>EX</td>\n",
       "      <td>FT</td>\n",
       "      <td>Head of Data</td>\n",
       "      <td>348516</td>\n",
       "      <td>USD</td>\n",
       "      <td>348516</td>\n",
       "      <td>US</td>\n",
       "      <td>0</td>\n",
       "      <td>US</td>\n",
       "      <td>M</td>\n",
       "    </tr>\n",
       "    <tr>\n",
       "      <th>1</th>\n",
       "      <td>2025</td>\n",
       "      <td>EX</td>\n",
       "      <td>FT</td>\n",
       "      <td>Head of Data</td>\n",
       "      <td>232344</td>\n",
       "      <td>USD</td>\n",
       "      <td>232344</td>\n",
       "      <td>US</td>\n",
       "      <td>0</td>\n",
       "      <td>US</td>\n",
       "      <td>M</td>\n",
       "    </tr>\n",
       "    <tr>\n",
       "      <th>2</th>\n",
       "      <td>2025</td>\n",
       "      <td>SE</td>\n",
       "      <td>FT</td>\n",
       "      <td>Data Scientist</td>\n",
       "      <td>145400</td>\n",
       "      <td>USD</td>\n",
       "      <td>145400</td>\n",
       "      <td>US</td>\n",
       "      <td>0</td>\n",
       "      <td>US</td>\n",
       "      <td>M</td>\n",
       "    </tr>\n",
       "    <tr>\n",
       "      <th>3</th>\n",
       "      <td>2025</td>\n",
       "      <td>SE</td>\n",
       "      <td>FT</td>\n",
       "      <td>Data Scientist</td>\n",
       "      <td>81600</td>\n",
       "      <td>USD</td>\n",
       "      <td>81600</td>\n",
       "      <td>US</td>\n",
       "      <td>0</td>\n",
       "      <td>US</td>\n",
       "      <td>M</td>\n",
       "    </tr>\n",
       "    <tr>\n",
       "      <th>4</th>\n",
       "      <td>2025</td>\n",
       "      <td>MI</td>\n",
       "      <td>FT</td>\n",
       "      <td>Engineer</td>\n",
       "      <td>160000</td>\n",
       "      <td>USD</td>\n",
       "      <td>160000</td>\n",
       "      <td>US</td>\n",
       "      <td>100</td>\n",
       "      <td>US</td>\n",
       "      <td>M</td>\n",
       "    </tr>\n",
       "    <tr>\n",
       "      <th>...</th>\n",
       "      <td>...</td>\n",
       "      <td>...</td>\n",
       "      <td>...</td>\n",
       "      <td>...</td>\n",
       "      <td>...</td>\n",
       "      <td>...</td>\n",
       "      <td>...</td>\n",
       "      <td>...</td>\n",
       "      <td>...</td>\n",
       "      <td>...</td>\n",
       "      <td>...</td>\n",
       "    </tr>\n",
       "    <tr>\n",
       "      <th>151440</th>\n",
       "      <td>2020</td>\n",
       "      <td>SE</td>\n",
       "      <td>FT</td>\n",
       "      <td>Data Scientist</td>\n",
       "      <td>412000</td>\n",
       "      <td>USD</td>\n",
       "      <td>412000</td>\n",
       "      <td>US</td>\n",
       "      <td>100</td>\n",
       "      <td>US</td>\n",
       "      <td>L</td>\n",
       "    </tr>\n",
       "    <tr>\n",
       "      <th>151441</th>\n",
       "      <td>2021</td>\n",
       "      <td>MI</td>\n",
       "      <td>FT</td>\n",
       "      <td>Principal Data Scientist</td>\n",
       "      <td>151000</td>\n",
       "      <td>USD</td>\n",
       "      <td>151000</td>\n",
       "      <td>US</td>\n",
       "      <td>100</td>\n",
       "      <td>US</td>\n",
       "      <td>L</td>\n",
       "    </tr>\n",
       "    <tr>\n",
       "      <th>151442</th>\n",
       "      <td>2020</td>\n",
       "      <td>EN</td>\n",
       "      <td>FT</td>\n",
       "      <td>Data Scientist</td>\n",
       "      <td>105000</td>\n",
       "      <td>USD</td>\n",
       "      <td>105000</td>\n",
       "      <td>US</td>\n",
       "      <td>100</td>\n",
       "      <td>US</td>\n",
       "      <td>S</td>\n",
       "    </tr>\n",
       "    <tr>\n",
       "      <th>151443</th>\n",
       "      <td>2020</td>\n",
       "      <td>EN</td>\n",
       "      <td>CT</td>\n",
       "      <td>Business Data Analyst</td>\n",
       "      <td>100000</td>\n",
       "      <td>USD</td>\n",
       "      <td>100000</td>\n",
       "      <td>US</td>\n",
       "      <td>100</td>\n",
       "      <td>US</td>\n",
       "      <td>L</td>\n",
       "    </tr>\n",
       "    <tr>\n",
       "      <th>151444</th>\n",
       "      <td>2021</td>\n",
       "      <td>SE</td>\n",
       "      <td>FT</td>\n",
       "      <td>Data Scientist</td>\n",
       "      <td>7000000</td>\n",
       "      <td>INR</td>\n",
       "      <td>94665</td>\n",
       "      <td>IN</td>\n",
       "      <td>50</td>\n",
       "      <td>IN</td>\n",
       "      <td>L</td>\n",
       "    </tr>\n",
       "  </tbody>\n",
       "</table>\n",
       "<p>151445 rows × 11 columns</p>\n",
       "</div>"
      ],
      "text/plain": [
       "        work_year experience_level employment_type                 job_title  \\\n",
       "0            2025               EX              FT              Head of Data   \n",
       "1            2025               EX              FT              Head of Data   \n",
       "2            2025               SE              FT            Data Scientist   \n",
       "3            2025               SE              FT            Data Scientist   \n",
       "4            2025               MI              FT                  Engineer   \n",
       "...           ...              ...             ...                       ...   \n",
       "151440       2020               SE              FT            Data Scientist   \n",
       "151441       2021               MI              FT  Principal Data Scientist   \n",
       "151442       2020               EN              FT            Data Scientist   \n",
       "151443       2020               EN              CT     Business Data Analyst   \n",
       "151444       2021               SE              FT            Data Scientist   \n",
       "\n",
       "         salary salary_currency  salary_in_usd employee_residence  \\\n",
       "0        348516             USD         348516                 US   \n",
       "1        232344             USD         232344                 US   \n",
       "2        145400             USD         145400                 US   \n",
       "3         81600             USD          81600                 US   \n",
       "4        160000             USD         160000                 US   \n",
       "...         ...             ...            ...                ...   \n",
       "151440   412000             USD         412000                 US   \n",
       "151441   151000             USD         151000                 US   \n",
       "151442   105000             USD         105000                 US   \n",
       "151443   100000             USD         100000                 US   \n",
       "151444  7000000             INR          94665                 IN   \n",
       "\n",
       "        remote_ratio company_location company_size  \n",
       "0                  0               US            M  \n",
       "1                  0               US            M  \n",
       "2                  0               US            M  \n",
       "3                  0               US            M  \n",
       "4                100               US            M  \n",
       "...              ...              ...          ...  \n",
       "151440           100               US            L  \n",
       "151441           100               US            L  \n",
       "151442           100               US            S  \n",
       "151443           100               US            L  \n",
       "151444            50               IN            L  \n",
       "\n",
       "[151445 rows x 11 columns]"
      ]
     },
     "execution_count": 51,
     "metadata": {},
     "output_type": "execute_result"
    }
   ],
   "source": [
    "df = pd.read_csv('../../data/salaries.csv')\n",
    "\n",
    "df"
   ]
  },
  {
   "cell_type": "code",
   "execution_count": 50,
   "id": "67716a8a",
   "metadata": {},
   "outputs": [
    {
     "data": {
      "text/plain": [
       "Text(0.5, 0, 'Salary range')"
      ]
     },
     "execution_count": 50,
     "metadata": {},
     "output_type": "execute_result"
    },
    {
     "data": {
      "image/png": "[encoded data removed]",
      "text/plain": [
       "<Figure size 640x480 with 1 Axes>"
      ]
     },
     "metadata": {},
     "output_type": "display_data"
    }
   ],
   "source": [
    "# reading the csv file and plotting the distribution of USD salaries\n",
    "df = pd.read_csv('../../data/salaries.csv')\n",
    "\n",
    "df = df[df['salary_currency'] == 'USD']\n",
    "\n",
    "plt.hist(df['salary'], bins=8, color='yellow', edgecolor='black', log=True)\n",
    "plt.ylabel('Number of persons')\n",
    "plt.xlabel('Salary range')"
   ]
  },
  {
   "cell_type": "code",
   "execution_count": 60,
   "id": "9fbfa0df",
   "metadata": {},
   "outputs": [
    {
     "data": {
      "text/plain": [
       "work_year                    2025\n",
       "experience_level               SE\n",
       "employment_type                FT\n",
       "job_title             AI Engineer\n",
       "salary                      89900\n",
       "salary_currency               USD\n",
       "salary_in_usd               89900\n",
       "employee_residence             US\n",
       "remote_ratio                  100\n",
       "company_location               US\n",
       "company_size                    M\n",
       "Name: 9, dtype: object"
      ]
     },
     "execution_count": 60,
     "metadata": {},
     "output_type": "execute_result"
    }
   ],
   "source": [
    "# How many job postings for each job title\n",
    "df = pd.read_csv('../../data/salaries.csv')\n",
    "\n",
    "query = db.query (\n",
    "    \"\"\"\n",
    "    SELECT\n",
    "        job_title,\n",
    "        COUNT(*)\n",
    "    FROM\n",
    "        df\n",
    "    GROUP BY\n",
    "        job_title\n",
    "    \"\"\"\n",
    ").df()\n",
    "\n",
    "df.iloc[9]"
   ]
  },
  {
   "cell_type": "code",
   "execution_count": 65,
   "id": "cab8b6eb",
   "metadata": {},
   "outputs": [
    {
     "name": "stdout",
     "output_type": "stream",
     "text": [
      "2013\n"
     ]
    },
    {
     "data": {
      "text/plain": [
       "<BarContainer object of 1 artists>"
      ]
     },
     "execution_count": 65,
     "metadata": {},
     "output_type": "execute_result"
    },
    {
     "data": {
      "image/png": "[encoded data removed]",
      "text/plain": [
       "<Figure size 640x480 with 1 Axes>"
      ]
     },
     "metadata": {},
     "output_type": "display_data"
    }
   ],
   "source": [
    "# plotting bar chart for AI Engineers\n",
    "job_title = 'AI Engineer'\n",
    "num_ai_engineer_posting = df['job_title'].value_counts()\n",
    "\n",
    "print(num_ai_engineer_posting['AI Engineer'])\n",
    "\n",
    "plt.bar(job_title, num_ai_engineer_posting, color='skyblue')"
   ]
  }
 ],
 "metadata": {
  "kernelspec": {
   "display_name": ".venv",
   "language": "python",
   "name": "python3"
  },
  "language_info": {
   "codemirror_mode": {
    "name": "ipython",
    "version": 3
   },
   "file_extension": ".py",
   "mimetype": "text/x-python",
   "name": "python",
   "nbconvert_exporter": "python",
   "pygments_lexer": "ipython3",
   "version": "3.13.2"
  }
 },
 "nbformat": 4,
 "nbformat_minor": 5
}
