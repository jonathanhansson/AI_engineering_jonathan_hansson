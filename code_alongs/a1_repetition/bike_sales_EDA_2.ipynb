{
 "cells": [
  {
   "cell_type": "markdown",
   "id": "1f1da2dc",
   "metadata": {},
   "source": [
    "# BIKE SALES EDA 2"
   ]
  },
  {
   "cell_type": "code",
   "execution_count": 1,
   "id": "7a03b573",
   "metadata": {},
   "outputs": [],
   "source": [
    "import pandas as pd\n",
    "\n",
    "df = pd.read_csv('../../data/Sales.csv', index_col=0, parse_dates=True)"
   ]
  },
  {
   "cell_type": "code",
   "execution_count": 53,
   "id": "43a90ad4",
   "metadata": {},
   "outputs": [
    {
     "data": {
      "text/html": [
       "<div>\n",
       "<style scoped>\n",
       "    .dataframe tbody tr th:only-of-type {\n",
       "        vertical-align: middle;\n",
       "    }\n",
       "\n",
       "    .dataframe tbody tr th {\n",
       "        vertical-align: top;\n",
       "    }\n",
       "\n",
       "    .dataframe thead th {\n",
       "        text-align: right;\n",
       "    }\n",
       "</style>\n",
       "<table border=\"1\" class=\"dataframe\">\n",
       "  <thead>\n",
       "    <tr style=\"text-align: right;\">\n",
       "      <th></th>\n",
       "      <th>Age_Group</th>\n",
       "      <th>avg_profit</th>\n",
       "      <th>sum_profit</th>\n",
       "    </tr>\n",
       "  </thead>\n",
       "  <tbody>\n",
       "    <tr>\n",
       "      <th>0</th>\n",
       "      <td>Adults (35-64)</td>\n",
       "      <td>292.375717</td>\n",
       "      <td>16321582.0</td>\n",
       "    </tr>\n",
       "    <tr>\n",
       "      <th>1</th>\n",
       "      <td>Young Adults (25-34)</td>\n",
       "      <td>294.581699</td>\n",
       "      <td>11386761.0</td>\n",
       "    </tr>\n",
       "    <tr>\n",
       "      <th>2</th>\n",
       "      <td>Youth (&lt;25)</td>\n",
       "      <td>245.377608</td>\n",
       "      <td>4374592.0</td>\n",
       "    </tr>\n",
       "    <tr>\n",
       "      <th>3</th>\n",
       "      <td>Seniors (64+)</td>\n",
       "      <td>189.267123</td>\n",
       "      <td>138165.0</td>\n",
       "    </tr>\n",
       "  </tbody>\n",
       "</table>\n",
       "</div>"
      ],
      "text/plain": [
       "              Age_Group  avg_profit  sum_profit\n",
       "0        Adults (35-64)  292.375717  16321582.0\n",
       "1  Young Adults (25-34)  294.581699  11386761.0\n",
       "2           Youth (<25)  245.377608   4374592.0\n",
       "3         Seniors (64+)  189.267123    138165.0"
      ]
     },
     "execution_count": 53,
     "metadata": {},
     "output_type": "execute_result"
    }
   ],
   "source": [
    "import duckdb as db\n",
    "\n",
    "query = db.query(\n",
    "    \"\"\"\n",
    "        SELECT DISTINCT\n",
    "            Age_Group,\n",
    "            AVG(Profit) AS avg_profit,\n",
    "            SUM(Profit) AS sum_profit\n",
    "        FROM\n",
    "            df\n",
    "        GROUP BY\n",
    "            1\n",
    "        ORDER BY\n",
    "            sum_profit DESC\n",
    "    \"\"\"\n",
    ").df()\n",
    "\n",
    "query"
   ]
  },
  {
   "cell_type": "code",
   "execution_count": null,
   "id": "41ff20ed",
   "metadata": {},
   "outputs": [
    {
     "data": {
      "text/html": [
       "<div>\n",
       "<style scoped>\n",
       "    .dataframe tbody tr th:only-of-type {\n",
       "        vertical-align: middle;\n",
       "    }\n",
       "\n",
       "    .dataframe tbody tr th {\n",
       "        vertical-align: top;\n",
       "    }\n",
       "\n",
       "    .dataframe thead th {\n",
       "        text-align: right;\n",
       "    }\n",
       "</style>\n",
       "<table border=\"1\" class=\"dataframe\">\n",
       "  <thead>\n",
       "    <tr style=\"text-align: right;\">\n",
       "      <th></th>\n",
       "      <th>Age_Group</th>\n",
       "      <th>avg(Profit)</th>\n",
       "      <th>sum(Profit)</th>\n",
       "    </tr>\n",
       "  </thead>\n",
       "  <tbody>\n",
       "    <tr>\n",
       "      <th>3</th>\n",
       "      <td>Seniors (64+)</td>\n",
       "      <td>189.267123</td>\n",
       "      <td>138165.0</td>\n",
       "    </tr>\n",
       "  </tbody>\n",
       "</table>\n",
       "</div>"
      ],
      "text/plain": [
       "       Age_Group  avg(Profit)  sum(Profit)\n",
       "3  Seniors (64+)   189.267123     138165.0"
      ]
     },
     "execution_count": 29,
     "metadata": {},
     "output_type": "execute_result"
    }
   ],
   "source": [
    "# Bra sätt att filtrera snabbt\n",
    "query.query(\"Age_Group == 'Seniors (64+)'\")"
   ]
  },
  {
   "cell_type": "code",
   "execution_count": 54,
   "id": "1387ae42",
   "metadata": {},
   "outputs": [
    {
     "data": {
      "image/png": "[encoded data removed]",
      "text/plain": [
       "<Figure size 640x480 with 1 Axes>"
      ]
     },
     "metadata": {},
     "output_type": "display_data"
    }
   ],
   "source": [
    "query.sort_values(by=\"sum_profit\", ascending=False)\n",
    "ax = query.plot(kind=\"barh\", x=\"Age_Group\", y=\"sum_profit\")\n",
    "\n",
    "\n",
    "ax.invert_yaxis()\n"
   ]
  }
 ],
 "metadata": {
  "kernelspec": {
   "display_name": ".venv",
   "language": "python",
   "name": "python3"
  },
  "language_info": {
   "codemirror_mode": {
    "name": "ipython",
    "version": 3
   },
   "file_extension": ".py",
   "mimetype": "text/x-python",
   "name": "python",
   "nbconvert_exporter": "python",
   "pygments_lexer": "ipython3",
   "version": "3.13.2"
  }
 },
 "nbformat": 4,
 "nbformat_minor": 5
}
